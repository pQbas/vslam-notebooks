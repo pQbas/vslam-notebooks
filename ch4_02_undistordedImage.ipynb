{
 "cells": [
  {
   "cell_type": "code",
   "execution_count": 1,
   "metadata": {},
   "outputs": [],
   "source": [
    "#include <iostream>\n",
    "#include <chrono>\n",
    "#include <string>\n",
    "\n",
    "#include \"includeLibraries.h\"\n",
    "#include <opencv2/opencv.hpp>\n",
    "\n",
    "using namespace std;\n",
    "using namespace cv;"
   ]
  },
  {
   "cell_type": "code",
   "execution_count": 2,
   "metadata": {},
   "outputs": [],
   "source": [
    "string image_file = \"./gallery/imageBasics/distorted.png\";\n",
    "double k1 = -0.28340811, k2 = 0.07395907, p1 = 0.00019359, p2 = 1.76187114e-05;\n",
    "double fx = 458.654, fy = 457.296, cx = 367.215, cy = 248.375;"
   ]
  },
  {
   "cell_type": "code",
   "execution_count": 3,
   "metadata": {},
   "outputs": [],
   "source": [
    "cv::Mat image = cv::imread(image_file, 0);\n",
    "int rows = image.rows, cols = image.cols;\n",
    "cv::Mat image_undistort = cv::Mat(rows, cols, CV_8UC1);"
   ]
  },
  {
   "cell_type": "code",
   "execution_count": 4,
   "metadata": {},
   "outputs": [],
   "source": [
    "for (int v = 0; v < rows; v++) {\n",
    "for (int u = 0; u < cols; u++) {\n",
    "\n",
    "    double x = (u - cx) / fx, y = (v - cy) / fy;\n",
    "    double r = sqrt(x * x + y * y);\n",
    "    double x_distorted = x * (1 + k1 * r * r + k2 * r * r * r * r) + 2 * p1 * x * y + p2 * (r * r + 2 * x * x);\n",
    "    double y_distorted = y * (1 + k1 * r * r + k2 * r * r * r * r) + p1 * (r * r + 2 * y * y) + 2 * p2 * x * y;\n",
    "    double u_distorted = fx * x_distorted + cx;\n",
    "    double v_distorted = fy * y_distorted + cy;\n",
    "\n",
    "    if (u_distorted >= 0 && v_distorted >= 0 && u_distorted < cols && v_distorted < rows) {\n",
    "        image_undistort.at<uchar>(v, u) = image.at<uchar>((int) v_distorted, (int) u_distorted);\n",
    "    } else {\n",
    "        image_undistort.at<uchar>(v, u) = 0;\n",
    "    }\n",
    "}\n",
    "}"
   ]
  },
  {
   "cell_type": "code",
   "execution_count": 5,
   "metadata": {},
   "outputs": [],
   "source": [
    "cv::imshow(\"distorted\", image);\n",
    "cv::imshow(\"undistorted\", image_undistort);\n",
    "cv::waitKey();\n",
    "cv::destroyAllWindows();\n"
   ]
  }
 ],
 "metadata": {
  "kernelspec": {
   "display_name": "C++14",
   "language": "C++14",
   "name": "xcpp14"
  },
  "language_info": {
   "codemirror_mode": "text/x-c++src",
   "file_extension": ".cpp",
   "mimetype": "text/x-c++src",
   "name": "c++",
   "version": "14"
  }
 },
 "nbformat": 4,
 "nbformat_minor": 2
}
