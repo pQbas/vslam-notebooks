{
 "cells": [
  {
   "cell_type": "code",
   "execution_count": 1,
   "metadata": {},
   "outputs": [
    {
     "name": "stderr",
     "output_type": "stream",
     "text": [
      "In file included from input_line_7:6:\n",
      "In file included from /home/pqbas/libraries/Pangolin/components/pango_core/include/pangolin/pangolin.h:40:\n",
      "In file included from /home/pqbas/libraries/Pangolin/components/pango_display/include/pangolin/display/widgets.h:31:\n",
      "In file included from /home/pqbas/libraries/Pangolin/components/pango_vars/include/pangolin/var/var.h:37:\n",
      "/home/pqbas/libraries/Pangolin/components/pango_vars/include/pangolin/var/varstate.h:242:16: warning: decomposition declarations are a C++17 extension [-Wc++17-extensions]\n",
      "    const auto [it, success] = vars.insert(VarStoreMap::value_type(var->Meta().full_name, var));\n",
      "               ^~~~~~~~~~~~~\n"
     ]
    }
   ],
   "source": [
    "#include \"includeOpenCV.h\"\n",
    "#include <opencv2/opencv.hpp>\n",
    "\n",
    "#include \"includeEigen.h\"\n",
    "#include \"eigen3/Eigen/Core\"\n",
    "\n",
    "#include \"includePangolin.h\"\n",
    "#include <pangolin/pangolin.h>\n",
    "\n",
    "#include <iostream>\n",
    "#include <chrono>\n",
    "#include <string>\n",
    "#include <vector>\n",
    "\n",
    "using namespace std;\n",
    "using namespace Eigen;"
   ]
  },
  {
   "cell_type": "code",
   "execution_count": 2,
   "metadata": {},
   "outputs": [],
   "source": [
    "string left_file = \"/home/pqbas/vslam/gallery/stereo/left.png\";\n",
    "string right_file = \"/home/pqbas/vslam/gallery/stereo/right.png\";"
   ]
  },
  {
   "cell_type": "code",
   "execution_count": 3,
   "metadata": {},
   "outputs": [],
   "source": [
    "double fx = 718.856, fy = 718.856, cx = 607.1928, cy = 185.2157;\n",
    "// 基线\n",
    "double b = 0.573;\n",
    "\n",
    "// 读取图像\n",
    "cv::Mat left = cv::imread(left_file, 0);\n",
    "cv::Mat right = cv::imread(right_file, 0);\n",
    "cv::Ptr<cv::StereoSGBM> sgbm = cv::StereoSGBM::create(\n",
    "0, 96, 9, 8 * 9 * 9, 32 * 9 * 9, 1, 63, 10, 100, 32);    // 神奇的参数\n",
    "cv::Mat disparity_sgbm, disparity;\n",
    "sgbm->compute(left, right, disparity_sgbm);\n",
    "disparity_sgbm.convertTo(disparity, CV_32F, 1.0 / 16.0f);"
   ]
  },
  {
   "cell_type": "code",
   "execution_count": 4,
   "metadata": {},
   "outputs": [
    {
     "name": "stderr",
     "output_type": "stream",
     "text": [
      "input_line_11:3:8: error: use of undeclared identifier 'Vector4d'\n",
      "vector<Vector4d, Eigen::aligned_allocator<Vector4d>> pointcloud;\n",
      "       ^\n"
     ]
    },
    {
     "ename": "Interpreter Error",
     "evalue": "",
     "output_type": "error",
     "traceback": [
      "Interpreter Error: "
     ]
    }
   ],
   "source": [
    "// 生成点云\n",
    "vector<Vector4d, Eigen::aligned_allocator<Vector4d>> pointcloud;"
   ]
  }
 ],
 "metadata": {
  "kernelspec": {
   "display_name": "C++14",
   "language": "C++14",
   "name": "xcpp14"
  },
  "language_info": {
   "codemirror_mode": "text/x-c++src",
   "file_extension": ".cpp",
   "mimetype": "text/x-c++src",
   "name": "c++",
   "version": "14"
  }
 },
 "nbformat": 4,
 "nbformat_minor": 2
}
