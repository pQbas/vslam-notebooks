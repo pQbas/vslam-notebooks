{
 "cells": [
  {
   "cell_type": "code",
   "execution_count": null,
   "metadata": {
    "vscode": {
     "languageId": "c++"
    }
   },
   "outputs": [],
   "source": [
    "#include <vector>\n",
    "#include <string>\n",
    "#include <unistd.h>"
   ]
  },
  {
   "cell_type": "code",
   "execution_count": 1,
   "metadata": {
    "vscode": {
     "languageId": "c++"
    }
   },
   "outputs": [],
   "source": []
  },
  {
   "cell_type": "code",
   "execution_count": 2,
   "metadata": {
    "vscode": {
     "languageId": "c++"
    }
   },
   "outputs": [],
   "source": [
    "#include <Eigen/Core>"
   ]
  },
  {
   "cell_type": "code",
   "execution_count": null,
   "metadata": {
    "vscode": {
     "languageId": "c++"
    }
   },
   "outputs": [],
   "source": [
    "#include <opencv2/opencv.hpp>\n",
    "\n"
   ]
  },
  {
   "cell_type": "code",
   "execution_count": 2,
   "metadata": {
    "vscode": {
     "languageId": "c++"
    }
   },
   "outputs": [],
   "source": [
    "#pragma cling add_include_path(\"/usr/local/include\") // Header files\n",
    "#pragma cling add_include_path(\"/usr/include\")\n",
    "\n",
    "#pragma cling add_library_path(\"/usr/local/include\") // Libaries\n",
    "\n",
    "\n"
   ]
  },
  {
   "cell_type": "code",
   "execution_count": 3,
   "metadata": {
    "vscode": {
     "languageId": "c++"
    }
   },
   "outputs": [
    {
     "name": "stderr",
     "output_type": "stream",
     "text": [
      "In file included from input_line_9:1:\n",
      "In file included from /usr/local/include/pangolin/pangolin.h:40:\n",
      "In file included from /usr/local/include/pangolin/display/widgets.h:31:\n",
      "In file included from /usr/local/include/pangolin/var/var.h:37:\n",
      "/usr/local/include/pangolin/var/varstate.h:242:16: warning: decomposition declarations are a C++17 extension [-Wc++17-extensions]\n",
      "    const auto [it, success] = vars.insert(VarStoreMap::value_type(var->Meta().full_name, var));\n",
      "               ^~~~~~~~~~~~~\n",
      "In file included from input_line_9:1:\n",
      "In file included from /usr/local/include/pangolin/pangolin.h:40:\n",
      "In file included from /usr/local/include/pangolin/display/widgets.h:32:\n",
      "In file included from /usr/local/include/pangolin/handler/handler.h:31:\n",
      "In file included from /usr/local/include/pangolin/gl/gl.h:324:\n",
      "/usr/local/include/pangolin/gl/gl.hpp:348:5: error: use of undeclared identifier 'glCopyImageSubDataNV'\n",
      "    glCopyImageSubDataNV(tex.tid, GL_TEXTURE_2D, 0, 0, 0, 0,\n",
      "    ^\n",
      "/usr/local/include/pangolin/gl/gl.hpp:522:9: error: use of undeclared identifier 'glDeleteRenderbuffersEXT'\n",
      "        glDeleteRenderbuffersEXT(1, &rbid);\n",
      "        ^\n",
      "/usr/local/include/pangolin/gl/gl.hpp:527:5: error: use of undeclared identifier 'glGenRenderbuffers'; did you mean 'GlRenderBuffer'?\n",
      "    glGenRenderbuffers(1, &rbid);\n",
      "    ^\n",
      "/usr/local/include/pangolin/gl/gl.h:127:24: note: 'GlRenderBuffer' declared here\n",
      "struct PANGOLIN_EXPORT GlRenderBuffer\n",
      "                       ^\n",
      "In file included from input_line_9:1:\n",
      "In file included from /usr/local/include/pangolin/pangolin.h:40:\n",
      "In file included from /usr/local/include/pangolin/display/widgets.h:32:\n",
      "In file included from /usr/local/include/pangolin/handler/handler.h:31:\n",
      "In file included from /usr/local/include/pangolin/gl/gl.h:324:\n",
      "/usr/local/include/pangolin/gl/gl.hpp:528:5: error: use of undeclared identifier 'glBindRenderbuffer'; did you mean 'GlRenderBuffer'?\n",
      "    glBindRenderbuffer(GL_RENDERBUFFER_EXT, rbid);\n",
      "    ^\n",
      "/usr/local/include/pangolin/gl/gl.h:127:24: note: 'GlRenderBuffer' declared here\n",
      "struct PANGOLIN_EXPORT GlRenderBuffer\n",
      "                       ^\n",
      "In file included from input_line_9:1:\n",
      "In file included from /usr/local/include/pangolin/pangolin.h:40:\n",
      "In file included from /usr/local/include/pangolin/display/widgets.h:32:\n",
      "In file included from /usr/local/include/pangolin/handler/handler.h:31:\n",
      "In file included from /usr/local/include/pangolin/gl/gl.h:324:\n",
      "/usr/local/include/pangolin/gl/gl.hpp:529:5: error: use of undeclared identifier 'glRenderbufferStorage'\n",
      "    glRenderbufferStorage(GL_RENDERBUFFER_EXT, internal_format, width, height);\n",
      "    ^\n",
      "/usr/local/include/pangolin/gl/gl.hpp:530:5: error: use of undeclared identifier 'glBindRenderbuffer'; did you mean 'GlRenderBuffer'?\n",
      "    glBindRenderbuffer(GL_RENDERBUFFER_EXT, 0);\n",
      "    ^\n",
      "/usr/local/include/pangolin/gl/gl.h:127:24: note: 'GlRenderBuffer' declared here\n",
      "struct PANGOLIN_EXPORT GlRenderBuffer\n",
      "                       ^\n",
      "In file included from input_line_9:1:\n",
      "In file included from /usr/local/include/pangolin/pangolin.h:40:\n",
      "In file included from /usr/local/include/pangolin/display/widgets.h:32:\n",
      "In file included from /usr/local/include/pangolin/handler/handler.h:31:\n",
      "In file included from /usr/local/include/pangolin/gl/gl.h:324:\n",
      "/usr/local/include/pangolin/gl/gl.hpp:536:9: error: use of undeclared identifier 'glDeleteRenderbuffers'\n",
      "        glDeleteRenderbuffers(1, &rbid);\n",
      "        ^\n",
      "/usr/local/include/pangolin/gl/gl.hpp:585:9: error: use of undeclared identifier 'glDeleteFramebuffers'\n",
      "        glDeleteFramebuffers(1, &fbid);\n",
      "        ^\n",
      "/usr/local/include/pangolin/gl/gl.hpp:592:5: error: use of undeclared identifier 'glGenFramebuffers'; did you mean 'GlFramebuffer'?\n",
      "    glGenFramebuffers(1, &fbid);\n",
      "    ^\n",
      "/usr/local/include/pangolin/gl/gl.h:148:24: note: 'GlFramebuffer' declared here\n",
      "struct PANGOLIN_EXPORT GlFramebuffer\n",
      "                       ^\n",
      "In file included from input_line_9:1:\n",
      "In file included from /usr/local/include/pangolin/pangolin.h:40:\n",
      "In file included from /usr/local/include/pangolin/display/widgets.h:32:\n",
      "In file included from /usr/local/include/pangolin/handler/handler.h:31:\n",
      "In file included from /usr/local/include/pangolin/gl/gl.h:324:\n",
      "/usr/local/include/pangolin/gl/gl.hpp:600:5: error: use of undeclared identifier 'glGenFramebuffers'; did you mean 'GlFramebuffer'?\n",
      "    glGenFramebuffers(1, &fbid);\n",
      "    ^\n",
      "/usr/local/include/pangolin/gl/gl.h:148:24: note: 'GlFramebuffer' declared here\n",
      "struct PANGOLIN_EXPORT GlFramebuffer\n",
      "                       ^\n",
      "In file included from input_line_9:1:\n",
      "In file included from /usr/local/include/pangolin/pangolin.h:40:\n",
      "In file included from /usr/local/include/pangolin/display/widgets.h:32:\n",
      "In file included from /usr/local/include/pangolin/handler/handler.h:31:\n",
      "In file included from /usr/local/include/pangolin/gl/gl.h:324:\n",
      "/usr/local/include/pangolin/gl/gl.hpp:609:5: error: use of undeclared identifier 'glGenFramebuffers'; did you mean 'GlFramebuffer'?\n",
      "    glGenFramebuffers(1, &fbid);\n",
      "    ^\n",
      "/usr/local/include/pangolin/gl/gl.h:148:24: note: 'GlFramebuffer' declared here\n",
      "struct PANGOLIN_EXPORT GlFramebuffer\n",
      "                       ^\n",
      "In file included from input_line_9:1:\n",
      "In file included from /usr/local/include/pangolin/pangolin.h:40:\n",
      "In file included from /usr/local/include/pangolin/display/widgets.h:32:\n",
      "In file included from /usr/local/include/pangolin/handler/handler.h:31:\n",
      "In file included from /usr/local/include/pangolin/gl/gl.h:324:\n",
      "/usr/local/include/pangolin/gl/gl.hpp:619:5: error: use of undeclared identifier 'glGenFramebuffers'; did you mean 'GlFramebuffer'?\n",
      "    glGenFramebuffers(1, &fbid);\n",
      "    ^\n",
      "/usr/local/include/pangolin/gl/gl.h:148:24: note: 'GlFramebuffer' declared here\n",
      "struct PANGOLIN_EXPORT GlFramebuffer\n",
      "                       ^\n",
      "In file included from input_line_9:1:\n",
      "In file included from /usr/local/include/pangolin/pangolin.h:40:\n",
      "In file included from /usr/local/include/pangolin/display/widgets.h:32:\n",
      "In file included from /usr/local/include/pangolin/handler/handler.h:31:\n",
      "In file included from /usr/local/include/pangolin/gl/gl.h:324:\n",
      "/usr/local/include/pangolin/gl/gl.hpp:630:5: error: use of undeclared identifier 'glGenFramebuffers'; did you mean 'GlFramebuffer'?\n",
      "    glGenFramebuffers(1, &fbid);\n",
      "    ^\n",
      "/usr/local/include/pangolin/gl/gl.h:148:24: note: 'GlFramebuffer' declared here\n",
      "struct PANGOLIN_EXPORT GlFramebuffer\n",
      "                       ^\n",
      "In file included from input_line_9:1:\n",
      "In file included from /usr/local/include/pangolin/pangolin.h:40:\n",
      "In file included from /usr/local/include/pangolin/display/widgets.h:32:\n",
      "In file included from /usr/local/include/pangolin/handler/handler.h:31:\n",
      "In file included from /usr/local/include/pangolin/gl/gl.h:324:\n",
      "/usr/local/include/pangolin/gl/gl.hpp:641:5: error: use of undeclared identifier 'glBindFramebuffer'\n",
      "    glBindFramebuffer(GL_FRAMEBUFFER_EXT, fbid);\n",
      "    ^\n",
      "/usr/local/include/pangolin/gl/gl.hpp:642:5: error: use of undeclared identifier 'glDrawBuffers'\n",
      "    glDrawBuffers( attachments, attachment_buffers );\n",
      "    ^\n",
      "/usr/local/include/pangolin/gl/gl.hpp:648:9: error: use of undeclared identifier 'glDeleteFramebuffers'\n",
      "        glDeleteFramebuffers(1, &fbid);\n",
      "        ^\n",
      "/usr/local/include/pangolin/gl/gl.hpp:650:5: error: use of undeclared identifier 'glGenFramebuffers'; did you mean 'GlFramebuffer'?\n",
      "    glGenFramebuffers(1, &fbid);\n",
      "    ^\n",
      "/usr/local/include/pangolin/gl/gl.h:148:24: note: 'GlFramebuffer' declared here\n",
      "struct PANGOLIN_EXPORT GlFramebuffer\n",
      "                       ^\n",
      "In file included from input_line_9:1:\n",
      "In file included from /usr/local/include/pangolin/pangolin.h:40:\n",
      "In file included from /usr/local/include/pangolin/display/widgets.h:32:\n",
      "In file included from /usr/local/include/pangolin/handler/handler.h:31:\n",
      "In file included from /usr/local/include/pangolin/gl/gl.h:324:\n",
      "/usr/local/include/pangolin/gl/gl.hpp:655:5: error: use of undeclared identifier 'glDrawBuffers'\n",
      "    glDrawBuffers( 1, attachment_buffers );\n",
      "    ^\n",
      "/usr/local/include/pangolin/gl/gl.hpp:656:5: error: use of undeclared identifier 'glBindFramebuffer'\n",
      "    glBindFramebuffer(GL_FRAMEBUFFER_EXT, 0);\n",
      "    ^\n",
      "fatal error: too many errors emitted, stopping now [-ferror-limit=]\n"
     ]
    },
    {
     "ename": "Interpreter Error",
     "evalue": "",
     "output_type": "error",
     "traceback": [
      "Interpreter Error: "
     ]
    }
   ],
   "source": [
    "\n",
    "#include <pangolin/pangolin.h>"
   ]
  }
 ],
 "metadata": {
  "kernelspec": {
   "display_name": "C++17",
   "language": "C++17",
   "name": "xcpp17"
  },
  "language_info": {
   "codemirror_mode": "text/x-c++src",
   "file_extension": ".cpp",
   "mimetype": "text/x-c++src",
   "name": "C++17",
   "version": "14"
  }
 },
 "nbformat": 4,
 "nbformat_minor": 2
}
