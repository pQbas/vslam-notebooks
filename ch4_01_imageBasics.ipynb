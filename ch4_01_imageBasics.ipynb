{
 "cells": [
  {
   "cell_type": "code",
   "execution_count": 1,
   "metadata": {},
   "outputs": [],
   "source": [
    "#include <iostream>\n",
    "#include <chrono>\n",
    "\n",
    "#include \"includeLibraries.h\"\n",
    "#include <opencv2/opencv.hpp>\n",
    "#include <opencv2/core/core.hpp>\n",
    "#include <opencv2/highgui/highgui.hpp>\n",
    "\n",
    "using namespace std;\n",
    "using namespace cv;"
   ]
  },
  {
   "cell_type": "code",
   "execution_count": 2,
   "metadata": {},
   "outputs": [
    {
     "name": "stdout",
     "output_type": "stream",
     "text": [
      "Columns:752,Rows:480, Channels:3\n"
     ]
    }
   ],
   "source": [
    "std::string image_path =  \"./gallery/imageBasics/distorted.png\";\n",
    "cv::Mat image;\n",
    "image = cv::imread(image_path);\n",
    "cout << \"Columns:\" << image.cols << \",Rows:\" << image.rows << \", Channels:\" << image.channels() << endl;\n",
    "cv::imshow(\"image\", image);\n",
    "cv::waitKey(0);\n",
    "cv::destroyAllWindows();"
   ]
  },
  {
   "cell_type": "code",
   "execution_count": 3,
   "metadata": {},
   "outputs": [
    {
     "name": "stdout",
     "output_type": "stream",
     "text": [
      "Time spent traversing images：0.00474216 s.\n"
     ]
    }
   ],
   "source": [
    "chrono::steady_clock::time_point t1 = chrono::steady_clock::now();\n",
    "\n",
    "for (size_t y = 0; y < image.rows; y++) {\n",
    "unsigned char *row_ptr = image.ptr<unsigned char>(y);\n",
    "for (size_t x = 0; x < image.cols; x++) {\n",
    "unsigned char *data_ptr = &row_ptr[x * image.channels()];\n",
    "\n",
    "    for (int c = 0; c != image.channels(); c++) {\n",
    "        unsigned char data = data_ptr[c];\n",
    "    }\n",
    "\n",
    "}\n",
    "}\n",
    "chrono::steady_clock::time_point t2 = chrono::steady_clock::now();\n",
    "chrono::duration<double> time_used = chrono::duration_cast < chrono::duration < double >> (t2 - t1);\n",
    "cout << \"Time spent traversing images：\" << time_used.count() << \" s.\" << endl;"
   ]
  },
  {
   "cell_type": "code",
   "execution_count": 4,
   "metadata": {},
   "outputs": [],
   "source": [
    "cv::Mat image_another = image;\n",
    "image_another(cv::Rect(0, 0, 100, 100)).setTo(0);\n",
    "cv::imshow(\"image\", image);\n",
    "cv::waitKey(0);\n",
    "cv::destroyAllWindows();"
   ]
  },
  {
   "cell_type": "code",
   "execution_count": 5,
   "metadata": {},
   "outputs": [],
   "source": [
    "cv::Mat image_clone = image.clone();\n",
    "image_clone(cv::Rect(0, 0, 100, 100)).setTo(255);\n",
    "cv::imshow(\"image_clone\", image_clone);\n",
    "cv::waitKey(0);\n",
    "cv::destroyAllWindows();"
   ]
  }
 ],
 "metadata": {
  "kernelspec": {
   "display_name": "C++14",
   "language": "C++14",
   "name": "xcpp14"
  },
  "language_info": {
   "codemirror_mode": "text/x-c++src",
   "file_extension": ".cpp",
   "mimetype": "text/x-c++src",
   "name": "c++",
   "version": "14"
  }
 },
 "nbformat": 4,
 "nbformat_minor": 2
}
